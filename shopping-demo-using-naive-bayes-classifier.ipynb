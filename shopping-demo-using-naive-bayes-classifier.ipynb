{
 "cells": [
  {
   "cell_type": "code",
   "execution_count": null,
   "id": "55cc0ed4",
   "metadata": {
    "_cell_guid": "b1076dfc-b9ad-4769-8c92-a6c4dae69d19",
    "_uuid": "8f2839f25d086af736a60e9eeb907d3b93b6e0e5",
    "papermill": {
     "duration": 0.005987,
     "end_time": "2024-05-13T06:02:03.498319",
     "exception": false,
     "start_time": "2024-05-13T06:02:03.492332",
     "status": "completed"
    },
    "tags": []
   },
   "outputs": [],
   "source": []
  },
  {
   "cell_type": "code",
   "execution_count": 1,
   "id": "e7a1fcff",
   "metadata": {
    "execution": {
     "iopub.execute_input": "2024-05-13T06:02:03.512276Z",
     "iopub.status.busy": "2024-05-13T06:02:03.511500Z",
     "iopub.status.idle": "2024-05-13T06:02:06.107942Z",
     "shell.execute_reply": "2024-05-13T06:02:06.106423Z"
    },
    "papermill": {
     "duration": 2.607382,
     "end_time": "2024-05-13T06:02:06.111342",
     "exception": false,
     "start_time": "2024-05-13T06:02:03.503960",
     "status": "completed"
    },
    "tags": []
   },
   "outputs": [],
   "source": [
    "import pandas as pd\n",
    "from sklearn.model_selection import train_test_split\n",
    "from sklearn.naive_bayes import MultinomialNB\n",
    "from sklearn.preprocessing import LabelEncoder\n",
    "from sklearn.metrics import accuracy_score,classification_report"
   ]
  },
  {
   "cell_type": "code",
   "execution_count": 2,
   "id": "a8b819d4",
   "metadata": {
    "execution": {
     "iopub.execute_input": "2024-05-13T06:02:06.124280Z",
     "iopub.status.busy": "2024-05-13T06:02:06.123663Z",
     "iopub.status.idle": "2024-05-13T06:02:06.147008Z",
     "shell.execute_reply": "2024-05-13T06:02:06.145592Z"
    },
    "papermill": {
     "duration": 0.033451,
     "end_time": "2024-05-13T06:02:06.150152",
     "exception": false,
     "start_time": "2024-05-13T06:02:06.116701",
     "status": "completed"
    },
    "tags": []
   },
   "outputs": [],
   "source": [
    "df=pd.read_csv(\"/kaggle/input/shopping-demo-dataset/shopping_demo.csv\")"
   ]
  },
  {
   "cell_type": "code",
   "execution_count": 3,
   "id": "5430d4fe",
   "metadata": {
    "execution": {
     "iopub.execute_input": "2024-05-13T06:02:06.163526Z",
     "iopub.status.busy": "2024-05-13T06:02:06.162663Z",
     "iopub.status.idle": "2024-05-13T06:02:06.177298Z",
     "shell.execute_reply": "2024-05-13T06:02:06.176236Z"
    },
    "papermill": {
     "duration": 0.024567,
     "end_time": "2024-05-13T06:02:06.179991",
     "exception": false,
     "start_time": "2024-05-13T06:02:06.155424",
     "status": "completed"
    },
    "tags": []
   },
   "outputs": [],
   "source": [
    "#encode categorical variables\n",
    "label_encoder=LabelEncoder()\n",
    "df[\"Day\"]=label_encoder.fit_transform(df[\"Day\"])\n",
    "df[\"Discount\"]=label_encoder.fit_transform(df[\"Discount\"])\n",
    "df[\"Free_delivery\"]=label_encoder.fit_transform(df[\"Free_delivery\"])\n",
    "df[\"Purchase\"]=label_encoder.fit_transform(df[\"Purchase\"])\n",
    "# weekday-1, weekend -2, holiday-0\n"
   ]
  },
  {
   "cell_type": "code",
   "execution_count": 4,
   "id": "4dd1b09d",
   "metadata": {
    "execution": {
     "iopub.execute_input": "2024-05-13T06:02:06.192556Z",
     "iopub.status.busy": "2024-05-13T06:02:06.191382Z",
     "iopub.status.idle": "2024-05-13T06:02:06.216068Z",
     "shell.execute_reply": "2024-05-13T06:02:06.214275Z"
    },
    "papermill": {
     "duration": 0.034152,
     "end_time": "2024-05-13T06:02:06.219021",
     "exception": false,
     "start_time": "2024-05-13T06:02:06.184869",
     "status": "completed"
    },
    "tags": []
   },
   "outputs": [
    {
     "name": "stdout",
     "output_type": "stream",
     "text": [
      "    Day  Discount  Free_delivery\n",
      "0     1         1              1\n",
      "1     2         0              0\n",
      "2     0         1              1\n",
      "3     1         0              1\n",
      "4     2         1              0\n",
      "5     1         1              0\n",
      "6     0         0              1\n",
      "7     1         0              0\n",
      "8     2         1              1\n",
      "9     1         1              1\n",
      "10    0         0              0\n",
      "11    1         0              1\n",
      "12    2         1              0\n",
      "13    1         1              0\n",
      "14    0         0              1\n",
      "15    1         1              1\n",
      "16    2         0              0\n",
      "17    0         1              0\n",
      "18    1         0              1\n",
      "19    2         1              1\n",
      "20    1         1              0\n",
      "21    0         0              1\n",
      "22    1         0              0\n",
      "23    2         1              1\n",
      "24    1         0              0\n",
      "25    0         1              0\n",
      "26    1         1              1\n",
      "27    2         0              1\n",
      "28    1         1              0\n",
      "29    0         0              1\n",
      "30    1         1              1\n",
      "31    2         1              0\n",
      "32    0         0              1\n",
      "33    1         1              1\n",
      "34    2         0              0\n",
      "35    1         1              1\n",
      "36    0         1              0\n",
      "37    1         0              1\n",
      "38    2         0              0\n",
      "39    1         1              0\n",
      "40    0         0              1\n",
      "41    1         1              1\n",
      "42    2         1              0\n",
      "43    1         0              1\n",
      "44    0         1              0\n",
      "45    1         0              1\n",
      "46    2         1              1\n",
      "47    0         1              0\n",
      "48    1         0              1\n",
      "49    2         1              0\n",
      "0     1\n",
      "1     0\n",
      "2     1\n",
      "3     1\n",
      "4     0\n",
      "5     1\n",
      "6     0\n",
      "7     0\n",
      "8     1\n",
      "9     1\n",
      "10    0\n",
      "11    0\n",
      "12    1\n",
      "13    1\n",
      "14    0\n",
      "15    1\n",
      "16    0\n",
      "17    1\n",
      "18    0\n",
      "19    1\n",
      "20    1\n",
      "21    0\n",
      "22    0\n",
      "23    1\n",
      "24    0\n",
      "25    1\n",
      "26    1\n",
      "27    0\n",
      "28    1\n",
      "29    0\n",
      "30    1\n",
      "31    1\n",
      "32    0\n",
      "33    1\n",
      "34    0\n",
      "35    1\n",
      "36    1\n",
      "37    0\n",
      "38    0\n",
      "39    1\n",
      "40    0\n",
      "41    1\n",
      "42    1\n",
      "43    0\n",
      "44    1\n",
      "45    0\n",
      "46    1\n",
      "47    1\n",
      "48    0\n",
      "49    1\n",
      "Name: Purchase, dtype: int64\n"
     ]
    }
   ],
   "source": [
    "#split the data\n",
    "x=df.drop(columns=[\"Purchase\"])\n",
    "y=df[\"Purchase\"]\n",
    "print(x)\n",
    "print(y)\n"
   ]
  },
  {
   "cell_type": "code",
   "execution_count": 5,
   "id": "e6750b70",
   "metadata": {
    "execution": {
     "iopub.execute_input": "2024-05-13T06:02:06.232159Z",
     "iopub.status.busy": "2024-05-13T06:02:06.231695Z",
     "iopub.status.idle": "2024-05-13T06:02:06.242623Z",
     "shell.execute_reply": "2024-05-13T06:02:06.241518Z"
    },
    "papermill": {
     "duration": 0.021093,
     "end_time": "2024-05-13T06:02:06.245509",
     "exception": false,
     "start_time": "2024-05-13T06:02:06.224416",
     "status": "completed"
    },
    "tags": []
   },
   "outputs": [],
   "source": [
    "x_train,x_test,y_train,y_test=train_test_split(x,y,test_size=0.2,random_state=42)\n"
   ]
  },
  {
   "cell_type": "code",
   "execution_count": 6,
   "id": "27fc4e70",
   "metadata": {
    "execution": {
     "iopub.execute_input": "2024-05-13T06:02:06.260693Z",
     "iopub.status.busy": "2024-05-13T06:02:06.259390Z",
     "iopub.status.idle": "2024-05-13T06:02:06.281285Z",
     "shell.execute_reply": "2024-05-13T06:02:06.279427Z"
    },
    "papermill": {
     "duration": 0.032711,
     "end_time": "2024-05-13T06:02:06.284502",
     "exception": false,
     "start_time": "2024-05-13T06:02:06.251791",
     "status": "completed"
    },
    "tags": []
   },
   "outputs": [
    {
     "data": {
      "text/html": [
       "<style>#sk-container-id-1 {color: black;background-color: white;}#sk-container-id-1 pre{padding: 0;}#sk-container-id-1 div.sk-toggleable {background-color: white;}#sk-container-id-1 label.sk-toggleable__label {cursor: pointer;display: block;width: 100%;margin-bottom: 0;padding: 0.3em;box-sizing: border-box;text-align: center;}#sk-container-id-1 label.sk-toggleable__label-arrow:before {content: \"▸\";float: left;margin-right: 0.25em;color: #696969;}#sk-container-id-1 label.sk-toggleable__label-arrow:hover:before {color: black;}#sk-container-id-1 div.sk-estimator:hover label.sk-toggleable__label-arrow:before {color: black;}#sk-container-id-1 div.sk-toggleable__content {max-height: 0;max-width: 0;overflow: hidden;text-align: left;background-color: #f0f8ff;}#sk-container-id-1 div.sk-toggleable__content pre {margin: 0.2em;color: black;border-radius: 0.25em;background-color: #f0f8ff;}#sk-container-id-1 input.sk-toggleable__control:checked~div.sk-toggleable__content {max-height: 200px;max-width: 100%;overflow: auto;}#sk-container-id-1 input.sk-toggleable__control:checked~label.sk-toggleable__label-arrow:before {content: \"▾\";}#sk-container-id-1 div.sk-estimator input.sk-toggleable__control:checked~label.sk-toggleable__label {background-color: #d4ebff;}#sk-container-id-1 div.sk-label input.sk-toggleable__control:checked~label.sk-toggleable__label {background-color: #d4ebff;}#sk-container-id-1 input.sk-hidden--visually {border: 0;clip: rect(1px 1px 1px 1px);clip: rect(1px, 1px, 1px, 1px);height: 1px;margin: -1px;overflow: hidden;padding: 0;position: absolute;width: 1px;}#sk-container-id-1 div.sk-estimator {font-family: monospace;background-color: #f0f8ff;border: 1px dotted black;border-radius: 0.25em;box-sizing: border-box;margin-bottom: 0.5em;}#sk-container-id-1 div.sk-estimator:hover {background-color: #d4ebff;}#sk-container-id-1 div.sk-parallel-item::after {content: \"\";width: 100%;border-bottom: 1px solid gray;flex-grow: 1;}#sk-container-id-1 div.sk-label:hover label.sk-toggleable__label {background-color: #d4ebff;}#sk-container-id-1 div.sk-serial::before {content: \"\";position: absolute;border-left: 1px solid gray;box-sizing: border-box;top: 0;bottom: 0;left: 50%;z-index: 0;}#sk-container-id-1 div.sk-serial {display: flex;flex-direction: column;align-items: center;background-color: white;padding-right: 0.2em;padding-left: 0.2em;position: relative;}#sk-container-id-1 div.sk-item {position: relative;z-index: 1;}#sk-container-id-1 div.sk-parallel {display: flex;align-items: stretch;justify-content: center;background-color: white;position: relative;}#sk-container-id-1 div.sk-item::before, #sk-container-id-1 div.sk-parallel-item::before {content: \"\";position: absolute;border-left: 1px solid gray;box-sizing: border-box;top: 0;bottom: 0;left: 50%;z-index: -1;}#sk-container-id-1 div.sk-parallel-item {display: flex;flex-direction: column;z-index: 1;position: relative;background-color: white;}#sk-container-id-1 div.sk-parallel-item:first-child::after {align-self: flex-end;width: 50%;}#sk-container-id-1 div.sk-parallel-item:last-child::after {align-self: flex-start;width: 50%;}#sk-container-id-1 div.sk-parallel-item:only-child::after {width: 0;}#sk-container-id-1 div.sk-dashed-wrapped {border: 1px dashed gray;margin: 0 0.4em 0.5em 0.4em;box-sizing: border-box;padding-bottom: 0.4em;background-color: white;}#sk-container-id-1 div.sk-label label {font-family: monospace;font-weight: bold;display: inline-block;line-height: 1.2em;}#sk-container-id-1 div.sk-label-container {text-align: center;}#sk-container-id-1 div.sk-container {/* jupyter's `normalize.less` sets `[hidden] { display: none; }` but bootstrap.min.css set `[hidden] { display: none !important; }` so we also need the `!important` here to be able to override the default hidden behavior on the sphinx rendered scikit-learn.org. See: https://github.com/scikit-learn/scikit-learn/issues/21755 */display: inline-block !important;position: relative;}#sk-container-id-1 div.sk-text-repr-fallback {display: none;}</style><div id=\"sk-container-id-1\" class=\"sk-top-container\"><div class=\"sk-text-repr-fallback\"><pre>MultinomialNB()</pre><b>In a Jupyter environment, please rerun this cell to show the HTML representation or trust the notebook. <br />On GitHub, the HTML representation is unable to render, please try loading this page with nbviewer.org.</b></div><div class=\"sk-container\" hidden><div class=\"sk-item\"><div class=\"sk-estimator sk-toggleable\"><input class=\"sk-toggleable__control sk-hidden--visually\" id=\"sk-estimator-id-1\" type=\"checkbox\" checked><label for=\"sk-estimator-id-1\" class=\"sk-toggleable__label sk-toggleable__label-arrow\">MultinomialNB</label><div class=\"sk-toggleable__content\"><pre>MultinomialNB()</pre></div></div></div></div></div>"
      ],
      "text/plain": [
       "MultinomialNB()"
      ]
     },
     "execution_count": 6,
     "metadata": {},
     "output_type": "execute_result"
    }
   ],
   "source": [
    "#train the naive bayes classifier\n",
    "nb_classifier=MultinomialNB()\n",
    "nb_classifier.fit(x_train,y_train)\n"
   ]
  },
  {
   "cell_type": "code",
   "execution_count": 7,
   "id": "2d3acb58",
   "metadata": {
    "execution": {
     "iopub.execute_input": "2024-05-13T06:02:06.298162Z",
     "iopub.status.busy": "2024-05-13T06:02:06.297765Z",
     "iopub.status.idle": "2024-05-13T06:02:06.313052Z",
     "shell.execute_reply": "2024-05-13T06:02:06.311585Z"
    },
    "papermill": {
     "duration": 0.025639,
     "end_time": "2024-05-13T06:02:06.316206",
     "exception": false,
     "start_time": "2024-05-13T06:02:06.290567",
     "status": "completed"
    },
    "tags": []
   },
   "outputs": [],
   "source": [
    "\n",
    "#make predictions\n",
    "y_pred=nb_classifier.predict(x_test)"
   ]
  },
  {
   "cell_type": "code",
   "execution_count": 8,
   "id": "5497d193",
   "metadata": {
    "execution": {
     "iopub.execute_input": "2024-05-13T06:02:06.330432Z",
     "iopub.status.busy": "2024-05-13T06:02:06.330030Z",
     "iopub.status.idle": "2024-05-13T06:02:06.347999Z",
     "shell.execute_reply": "2024-05-13T06:02:06.347058Z"
    },
    "papermill": {
     "duration": 0.02864,
     "end_time": "2024-05-13T06:02:06.350777",
     "exception": false,
     "start_time": "2024-05-13T06:02:06.322137",
     "status": "completed"
    },
    "tags": []
   },
   "outputs": [
    {
     "name": "stdout",
     "output_type": "stream",
     "text": [
      "The accuracy of the model is:  1.0\n",
      "Classification Report:\n",
      "              precision    recall  f1-score   support\n",
      "\n",
      "           0       1.00      1.00      1.00         3\n",
      "           1       1.00      1.00      1.00         7\n",
      "\n",
      "    accuracy                           1.00        10\n",
      "   macro avg       1.00      1.00      1.00        10\n",
      "weighted avg       1.00      1.00      1.00        10\n",
      "\n"
     ]
    }
   ],
   "source": [
    "accuracy=accuracy_score(y_test,y_pred)\n",
    "print(\"The accuracy of the model is: \",accuracy)\n",
    "\n",
    "print(\"Classification Report:\")\n",
    "print(classification_report(y_test,y_pred))"
   ]
  },
  {
   "cell_type": "code",
   "execution_count": 9,
   "id": "797af31f",
   "metadata": {
    "execution": {
     "iopub.execute_input": "2024-05-13T06:02:06.366055Z",
     "iopub.status.busy": "2024-05-13T06:02:06.365626Z",
     "iopub.status.idle": "2024-05-13T06:02:06.371163Z",
     "shell.execute_reply": "2024-05-13T06:02:06.369970Z"
    },
    "papermill": {
     "duration": 0.017114,
     "end_time": "2024-05-13T06:02:06.374305",
     "exception": false,
     "start_time": "2024-05-13T06:02:06.357191",
     "status": "completed"
    },
    "tags": []
   },
   "outputs": [],
   "source": [
    "# Create dictionaries to map encoded values to their corresponding labels\n",
    "day_mapping = {0: 'Holiday', 1: 'Weekday', 2: 'Weekend'}\n",
    "binary_mapping = {0: 'No', 1: 'Yes'}\n"
   ]
  },
  {
   "cell_type": "code",
   "execution_count": 10,
   "id": "065e2012",
   "metadata": {
    "execution": {
     "iopub.execute_input": "2024-05-13T06:02:06.388887Z",
     "iopub.status.busy": "2024-05-13T06:02:06.388401Z",
     "iopub.status.idle": "2024-05-13T06:02:06.397107Z",
     "shell.execute_reply": "2024-05-13T06:02:06.395660Z"
    },
    "papermill": {
     "duration": 0.019322,
     "end_time": "2024-05-13T06:02:06.400244",
     "exception": false,
     "start_time": "2024-05-13T06:02:06.380922",
     "status": "completed"
    },
    "tags": []
   },
   "outputs": [
    {
     "name": "stderr",
     "output_type": "stream",
     "text": [
      "/opt/conda/lib/python3.10/site-packages/sklearn/base.py:439: UserWarning: X does not have valid feature names, but MultinomialNB was fitted with feature names\n",
      "  warnings.warn(\n"
     ]
    }
   ],
   "source": [
    "new_input=[[2,0,0],[1,1,0],[0,1,1]]\n",
    "predicted_results=nb_classifier.predict(new_input)"
   ]
  },
  {
   "cell_type": "code",
   "execution_count": 11,
   "id": "3bae8b65",
   "metadata": {
    "execution": {
     "iopub.execute_input": "2024-05-13T06:02:06.415054Z",
     "iopub.status.busy": "2024-05-13T06:02:06.414517Z",
     "iopub.status.idle": "2024-05-13T06:02:06.425259Z",
     "shell.execute_reply": "2024-05-13T06:02:06.423568Z"
    },
    "papermill": {
     "duration": 0.021852,
     "end_time": "2024-05-13T06:02:06.428357",
     "exception": false,
     "start_time": "2024-05-13T06:02:06.406505",
     "status": "completed"
    },
    "tags": []
   },
   "outputs": [
    {
     "name": "stdout",
     "output_type": "stream",
     "text": [
      "A person shopping in Weekend with discount being No and free delivery being No is predicted to shop(yes/no): No\n",
      "A person shopping in Weekday with discount being Yes and free delivery being No is predicted to shop(yes/no): Yes\n",
      "A person shopping in Holiday with discount being Yes and free delivery being Yes is predicted to shop(yes/no): Yes\n"
     ]
    }
   ],
   "source": [
    "predicted_result_names=label_encoder.inverse_transform(predicted_results)\n",
    "\n",
    "# Convert binary encoded values to \"Yes\" and \"No\"\n",
    "predicted_result_names = [[day_mapping[input[0]], binary_mapping[input[1]], binary_mapping[input[2]], result_name] \n",
    "                           for input, result_name in zip(new_input, predicted_result_names)]\n",
    "\n",
    "# Print the results with the actual day names and \"Yes\" and \"No\" labels\n",
    "for input, result_name in zip(new_input, predicted_result_names):\n",
    "    print(\"A person shopping in {} with discount being {} and free delivery being {} is predicted to shop(yes/no): {}\".format(\n",
    "        result_name[0], result_name[1], result_name[2], result_name[3]))"
   ]
  }
 ],
 "metadata": {
  "kaggle": {
   "accelerator": "none",
   "dataSources": [
    {
     "datasetId": 4995713,
     "sourceId": 8397254,
     "sourceType": "datasetVersion"
    }
   ],
   "dockerImageVersionId": 30698,
   "isGpuEnabled": false,
   "isInternetEnabled": true,
   "language": "python",
   "sourceType": "notebook"
  },
  "kernelspec": {
   "display_name": "Python 3",
   "language": "python",
   "name": "python3"
  },
  "language_info": {
   "codemirror_mode": {
    "name": "ipython",
    "version": 3
   },
   "file_extension": ".py",
   "mimetype": "text/x-python",
   "name": "python",
   "nbconvert_exporter": "python",
   "pygments_lexer": "ipython3",
   "version": "3.10.13"
  },
  "papermill": {
   "default_parameters": {},
   "duration": 6.917492,
   "end_time": "2024-05-13T06:02:07.058673",
   "environment_variables": {},
   "exception": null,
   "input_path": "__notebook__.ipynb",
   "output_path": "__notebook__.ipynb",
   "parameters": {},
   "start_time": "2024-05-13T06:02:00.141181",
   "version": "2.5.0"
  }
 },
 "nbformat": 4,
 "nbformat_minor": 5
}
